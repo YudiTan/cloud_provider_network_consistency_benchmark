{
 "cells": [
  {
   "cell_type": "code",
   "execution_count": 3,
   "metadata": {},
   "outputs": [],
   "source": [
    "import pandas as pd\n",
    "import numpy as np\n",
    "import matplotlib.pyplot as plt\n"
   ]
  },
  {
   "cell_type": "code",
   "execution_count": 79,
   "metadata": {},
   "outputs": [],
   "source": [
    "import glob\n",
    "import errno\n",
    "\n",
    "def get_log_time(path):\n",
    "    path = path.split(\"/\")[-1]\n",
    "    timestamp = path.split(\"_\")[1]\n",
    "    hour = timestamp.split(\"-\")[0]\n",
    "    return int(hour)\n",
    "\n",
    "def get_dict(prov):\n",
    "    path = '/Users/nidhikakulawaram/Downloads/single-datacenter-ftp-test/'+ prov + '/*.txt' #note C:\n",
    "    files = glob.glob(path)\n",
    "    latency = {}\n",
    "    throughput = {}\n",
    "\n",
    "    for name in files:\n",
    "        hour = get_log_time(name)\n",
    "        try:\n",
    "            with open(name) as f:\n",
    "                for line in f:\n",
    "                    if 'Transferred:' in line: \n",
    "                        latency.setdefault(hour,[]).append(line.split()[7])\n",
    "                    if 'Bytes per second:' in line:\n",
    "                        throughput.setdefault(hour,[]).append(line.split()[6])\n",
    "        except IOError as exc: #Not sure what error this is\n",
    "            if exc.errno != errno.EISDIR:\n",
    "                raise\n",
    "    for t in latency.keys():\n",
    "        latency[t] = latency[t][:10]\n",
    "        throughput[t] = throughput[t][:10]\n",
    "    return latency, throughput\n",
    "\n",
    "\n",
    "gcp_latency, gcp_throughput  = get_dict('gcp')"
   ]
  },
  {
   "cell_type": "code",
   "execution_count": 94,
   "metadata": {},
   "outputs": [],
   "source": [
    "def create_ping_scatter_plot(latencies_dict, cloud_provider, is_wan=False):\n",
    "#     if is_wan:\n",
    "#         for i in range(1,8):\n",
    "#             y = latencies_dict[i]\n",
    "#             plt.scatter([i] * len(y), y)\n",
    "#         plt.xlabel(\"Hour of Day (CST)\")\n",
    "#         plt.title(\"{} WAN Ping Test\".format(cloud_provider))\n",
    "#         plt.xticks(range(1, 8, 1))\n",
    "#     else:\n",
    "    for xe, ye in zip(latencies_dict.keys(), latencies_dict.values()):\n",
    "        plt.scatter([xe] * len(ye), ye, alpha = 0.4)\n",
    "        plt.xlabel(\"Hour of Day (PST)\")\n",
    "        plt.title(\"{} Single D.C. Ping Test\".format(cloud_provider))\n",
    "        plt.xticks(range(0, 24, 1))\n",
    "    #plt.yticks(np.arange(0, 1,0.1))\n",
    "    plt.ylabel(\"Latency (ms)\")\n",
    "    plt.show()\n",
    "    return"
   ]
  },
  {
   "cell_type": "code",
   "execution_count": null,
   "metadata": {},
   "outputs": [],
   "source": []
  },
  {
   "cell_type": "code",
   "execution_count": 95,
   "metadata": {},
   "outputs": [
    {
     "name": "stdout",
     "output_type": "stream",
     "text": [
      "19 ['1.0', '1.0', '1.0', '1.1', '1.0', '1.1', '1.0', '1.0', '1.0', '1.0']\n",
      "4 ['1.0', '1.0', '1.0', '1.0', '1.0', '1.0', '1.0', '1.0', '1.1', '1.0']\n",
      "6 ['1.1', '1.3', '1.0', '1.0', '8.3', '8.8', '1.0', '1.1', '1.3', '1.0']\n",
      "12 ['1.3', '1.0', '1.0', '1.0', '1.0', '1.1', '1.0', '1.1', '1.0', '1.0']\n",
      "20 ['1.0', '1.0', '1.0', '1.0', '1.0', '1.0', '1.0', '1.0', '1.0', '1.0']\n",
      "5 ['1.0', '1.0', '1.1', '1.0', '1.0', '1.0', '1.1', '1.0', '1.1', '1.0']\n",
      "0 ['1.5', '1.0', '1.0', '1.0', '1.0', '1.1', '1.0', '1.0', '1.0', '1.0']\n",
      "15 ['1.0', '1.0', '1.0', '1.0', '1.0', '1.0', '1.0', '1.0', '1.0', '1.1']\n",
      "2 ['1.0', '1.0', '1.0', '1.0', '1.0', '1.0', '1.1', '1.0', '1.0', '1.0']\n",
      "16 ['1.0', '1.0', '1.0', '1.0', '1.0', '1.0', '1.0', '1.0', '1.0', '1.0']\n",
      "21 ['1.0', '1.0', '1.0', '1.0', '1.1', '1.0', '1.1', '1.2', '1.0', '1.0']\n",
      "9 ['1.1', '1.0', '1.0', '1.0', '1.1', '1.0', '1.0', '1.1', '1.0', '1.1']\n",
      "18 ['1.0', '1.0', '1.1', '1.1', '1.0', '1.0', '1.0', '1.0', '1.0', '1.1']\n",
      "22 ['1.1', '1.0', '1.0', '1.0', '1.2', '1.0', '1.0', '1.1', '1.1', '1.0']\n",
      "1 ['1.0', '1.0', '1.0', '1.0', '1.0', '1.1', '1.0', '1.2', '1.0', '1.0']\n",
      "14 ['1.0', '1.1', '1.0', '1.0', '1.0', '1.0', '1.0', '1.0', '1.1', '1.1']\n",
      "8 ['1.0', '1.0', '1.0', '1.0', '1.1', '1.0', '1.1', '1.0', '1.0', '1.0']\n",
      "10 ['1.0', '1.0', '2.0', '1.0', '1.0', '1.0', '1.2', '1.3', '1.1', '1.0']\n",
      "7 ['1.3', '1.1', '1.1', '1.0', '1.0', '1.2', '1.1', '1.0', '1.0', '1.0']\n",
      "23 ['1.0', '1.0', '1.2', '1.1', '1.0', '1.0', '1.0', '1.0', '1.0', '1.0']\n",
      "17 ['1.0', '1.0', '1.1', '1.0', '1.0', '1.1', '1.1', '1.0', '1.0', '1.0']\n",
      "11 ['1.0', '1.1', '1.0', '1.0', '1.1', '1.2', '1.3', '1.0', '1.0', '1.0']\n",
      "13 ['1.0', '1.0', '1.0', '1.0', '1.0', '1.1', '1.0', '1.0', '1.0', '1.0']\n",
      "3 ['1.0', '1.0', '1.0', '1.0', '1.1', '1.0', '1.0', '1.0', '1.0', '1.0']\n"
     ]
    },
    {
     "data": {
      "image/png": "[encoded data removed]",
      "text/plain": [
       "<Figure size 432x288 with 1 Axes>"
      ]
     },
     "metadata": {
      "needs_background": "light"
     },
     "output_type": "display_data"
    }
   ],
   "source": [
    "create_ping_scatter_plot(gcp_latency, 'GCP')"
   ]
  },
  {
   "cell_type": "code",
   "execution_count": 95,
   "metadata": {},
   "outputs": [
    {
     "name": "stdout",
     "output_type": "stream",
     "text": [
      "241\n"
     ]
    }
   ],
   "source": [
    "path = '/Users/nidhikakulawaram/Downloads/single-datacenter-ftp-test/azure/*.txt' #note C:\n",
    "files = glob.glob(path)\n",
    "print(len(files))\n",
    "\n",
    "transferred = []\n",
    "bps = []\n",
    "\n",
    "for name in files:\n",
    "    try:\n",
    "        with open(name) as f:\n",
    "            for line in f:\n",
    "                if 'Transferred:' in line: \n",
    "                    transferred.append(line)\n",
    "                if 'Bytes per second:' in line:\n",
    "                    bps.append(line)\n",
    "    except IOError as exc: #Not sure what error this is\n",
    "        if exc.errno != errno.EISDIR:\n",
    "            raise"
   ]
  },
  {
   "cell_type": "code",
   "execution_count": 96,
   "metadata": {},
   "outputs": [],
   "source": [
    "az_transfer_time = []\n",
    "for t in transferred:\n",
    "    lst = t.split()\n",
    "    az_transfer_time.append(float(lst[7]))\n",
    "az_transfer_time = az_transfer_time[:240]"
   ]
  },
  {
   "cell_type": "code",
   "execution_count": 97,
   "metadata": {},
   "outputs": [
    {
     "name": "stdout",
     "output_type": "stream",
     "text": [
      "240\n"
     ]
    }
   ],
   "source": [
    "path = '/Users/nidhikakulawaram/Downloads/single-datacenter-ftp-test/digital-ocean/*.txt' #note C:\n",
    "files = glob.glob(path)\n",
    "print(len(files))\n",
    "\n",
    "transferred = []\n",
    "bps = []\n",
    "\n",
    "for name in files:\n",
    "    try:\n",
    "        with open(name) as f:\n",
    "            for line in f:\n",
    "                if 'Transferred:' in line: \n",
    "                    transferred.append(line)\n",
    "                if 'Bytes per second:' in line:\n",
    "                    bps.append(line)\n",
    "    except IOError as exc: #Not sure what error this is\n",
    "        if exc.errno != errno.EISDIR:\n",
    "            raise"
   ]
  },
  {
   "cell_type": "code",
   "execution_count": 98,
   "metadata": {},
   "outputs": [
    {
     "data": {
      "text/plain": [
       "[1.1, 1.3, 1.3, 1.3, 1.3]"
      ]
     },
     "execution_count": 98,
     "metadata": {},
     "output_type": "execute_result"
    }
   ],
   "source": [
    "do_transfer_time = []\n",
    "for t in transferred:\n",
    "    lst = t.split()\n",
    "    do_transfer_time.append(float(lst[7]))\n",
    "do_transfer_time = do_transfer_time[:240]\n",
    "do_transfer_time[0:5]"
   ]
  },
  {
   "cell_type": "code",
   "execution_count": 99,
   "metadata": {},
   "outputs": [
    {
     "name": "stdout",
     "output_type": "stream",
     "text": [
      "242\n"
     ]
    }
   ],
   "source": [
    "path = '/Users/nidhikakulawaram/Downloads/single-datacenter-ftp-test/AWS_scplogs/*.txt' #note C:\n",
    "files = glob.glob(path)\n",
    "print(len(files))\n",
    "\n",
    "transferred = []\n",
    "bps = []\n",
    "\n",
    "for name in files:\n",
    "    try:\n",
    "        with open(name) as f:\n",
    "            for line in f:\n",
    "                if 'Transferred:' in line: \n",
    "                    transferred.append(line)\n",
    "                if 'Bytes per second:' in line:\n",
    "                    bps.append(line)\n",
    "    except IOError as exc: #Not sure what error this is\n",
    "        if exc.errno != errno.EISDIR:\n",
    "            raise"
   ]
  },
  {
   "cell_type": "code",
   "execution_count": 100,
   "metadata": {},
   "outputs": [
    {
     "data": {
      "text/plain": [
       "[1.5, 1.4, 1.5, 1.5, 1.5]"
      ]
     },
     "execution_count": 100,
     "metadata": {},
     "output_type": "execute_result"
    }
   ],
   "source": [
    "aws_transfer_time = []\n",
    "for t in transferred:\n",
    "    lst = t.split()\n",
    "    aws_transfer_time.append(float(lst[7]))\n",
    "aws_transfer_time = aws_transfer_time[:240]\n",
    "aws_transfer_time[0:5]"
   ]
  },
  {
   "cell_type": "code",
   "execution_count": null,
   "metadata": {},
   "outputs": [],
   "source": [
    "# Helper functions\n",
    "\n",
    "# takes in a file path to the log file and return ([list of latencies], packet loss in %)\n",
    "def scrap_ping_log(path):\n",
    "    f = open(path).readlines()\n",
    "    latencies = []\n",
    "    packet_loss = 0\n",
    "    # assuming the file is non empty.\n",
    "    for l in f:\n",
    "        if len(l) > 10 and l[0:2] == '64':\n",
    "            time_idx = l.find(\"time=\")\n",
    "            latency = float(l[time_idx+5:-3])\n",
    "            latencies.append(latency)\n",
    "        elif len(l) > 10 and l[0:3] == '500':\n",
    "            loss_line = l.split(\",\")[2].strip()\n",
    "            percent_idx = loss_line.find(\"%\")\n",
    "            packet_loss = float(loss_line[:percent_idx])\n",
    "            break\n",
    "    return (latencies, packet_loss)\n",
    "\n",
    "# takes in a file path to the log file and returns an integer between 0 and 24 representing the time of test (UTC).\n",
    "def get_log_time(path):\n",
    "    path = path.split(\"/\")[-1]\n",
    "    timestamp = path.split(\"_\")[1]\n",
    "    hour = timestamp.split(\"-\")[0]\n",
    "    return int(hour)\n",
    "\n",
    "# takes in a list of file paths to all the logs for a particular cloud provider and return \n",
    "# (ping_latencies, ping_losses)\n",
    "# where ping_latencies is dictionary: \n",
    "# key = hour, value = list of 500 ping latencies for that hour\n",
    "# and ping_losses is dictionary:\n",
    "# key = hour, value = % loss for that hour\n",
    "def create_data_dicts(log_paths):\n",
    "    ping_latencies = {}\n",
    "    ping_losses = {}\n",
    "    for i in log_paths:\n",
    "        hour = get_log_time(i)\n",
    "        data = scrap_ping_log(i)\n",
    "        ping_latencies[hour] = data[0]\n",
    "        ping_losses[hour] = data[1]\n",
    "    return (ping_latencies, ping_losses)\n",
    "\n",
    "# takes in a dictionary (idx 0 of tuple returned by create_data_dicts)) and plots a scatterplot of latencies vs hour\n",
    "def create_ping_scatter_plot(latencies_dict, cloud_provider, is_wan=False):\n",
    "    if is_wan:\n",
    "        for i in range(1,8):\n",
    "            y = latencies_dict[i]\n",
    "            plt.scatter([i] * len(y), y)\n",
    "        plt.xlabel(\"Hour of Day (CST)\")\n",
    "        plt.title(\"{} WAN Ping Test\".format(cloud_provider))\n",
    "        plt.xticks(range(1, 8, 1))\n",
    "    else:\n",
    "        for xe, ye in zip(latencies_dict.keys(), latencies_dict.values()):\n",
    "            plt.scatter([xe] * len(ye), ye)\n",
    "        plt.xlabel(\"Hour of Day (PST)\")\n",
    "        plt.title(\"{} Single D.C. Ping Test\".format(cloud_provider))\n",
    "        plt.xticks(range(0, 24, 1))\n",
    "    #plt.yticks(np.arange(0, 1,0.1))\n",
    "    plt.ylabel(\"Latency (ms)\")\n",
    "    plt.show()\n",
    "    return\n",
    "\n",
    "def create_avg_and_std_line_plots(latencies_dict, cloud_provider, is_wan=False):\n",
    "    if is_wan:\n",
    "        plt.plot(range(1, 8, 1), [np.mean(latencies_dict[i]) for i in range(1, 8)], label=\"avg latency\")\n",
    "        plt.plot(range(1, 8, 1), [np.std(latencies_dict[i]) for i in range(1, 8)], label=\"std dev\")\n",
    "        plt.xlabel(\"Hour of Day (CST)\")\n",
    "        plt.xticks(range(0, 8, 1))\n",
    "        plt.title(\"{} WAN Ping Test\".format(cloud_provider))\n",
    "    else:\n",
    "        plt.plot(range(24), [np.mean(latencies_dict[i]) for i in range(24)], label=\"avg latency\")\n",
    "        plt.plot(range(24), [np.std(latencies_dict[i]) for i in range(24)], label=\"std dev\")\n",
    "        plt.xlabel(\"Hour of Day (UTC)\")\n",
    "        plt.xticks(range(0, 24, 1))\n",
    "        plt.title(\"{} Single D.C. Ping Test\".format(cloud_provider))\n",
    "    plt.ylabel(\"Avg Latency / Std Dev (ms)\")\n",
    "    \n",
    "    plt.legend()\n",
    "    plt.show()\n",
    "        "
   ]
  },
  {
   "cell_type": "code",
   "execution_count": 109,
   "metadata": {},
   "outputs": [
    {
     "ename": "AttributeError",
     "evalue": "'list' object has no attribute 'mean'",
     "output_type": "error",
     "traceback": [
      "\u001b[0;31m---------------------------------------------------------------------------\u001b[0m",
      "\u001b[0;31mAttributeError\u001b[0m                            Traceback (most recent call last)",
      "\u001b[0;32m<ipython-input-109-8a96ffa48bc6>\u001b[0m in \u001b[0;36m<module>\u001b[0;34m\u001b[0m\n\u001b[1;32m      3\u001b[0m \u001b[0mplt\u001b[0m\u001b[0;34m.\u001b[0m\u001b[0mylabel\u001b[0m\u001b[0;34m(\u001b[0m\u001b[0;34m'Transfer Time'\u001b[0m\u001b[0;34m)\u001b[0m\u001b[0;34m\u001b[0m\u001b[0;34m\u001b[0m\u001b[0m\n\u001b[1;32m      4\u001b[0m \u001b[0mplt\u001b[0m\u001b[0;34m.\u001b[0m\u001b[0mtitle\u001b[0m\u001b[0;34m(\u001b[0m\u001b[0;34m'GCP Transfer Time'\u001b[0m\u001b[0;34m)\u001b[0m\u001b[0;34m\u001b[0m\u001b[0;34m\u001b[0m\u001b[0m\n\u001b[0;32m----> 5\u001b[0;31m \u001b[0mgcp_transfer_time\u001b[0m\u001b[0;34m.\u001b[0m\u001b[0mmean\u001b[0m\u001b[0;34m(\u001b[0m\u001b[0;34m)\u001b[0m\u001b[0;34m\u001b[0m\u001b[0;34m\u001b[0m\u001b[0m\n\u001b[0m",
      "\u001b[0;31mAttributeError\u001b[0m: 'list' object has no attribute 'mean'"
     ]
    },
    {
     "data": {
      "image/png": "[encoded data removed]",
      "text/plain": [
       "<Figure size 432x288 with 1 Axes>"
      ]
     },
     "metadata": {
      "needs_background": "light"
     },
     "output_type": "display_data"
    }
   ],
   "source": [
    "\n",
    "plt.bar(range(0,240),gcp_transfer_time,5)\n",
    "plt.xlabel('Hour')\n",
    "plt.ylabel('Transfer Time')\n",
    "plt.title('GCP Transfer Time')\n",
    "\n",
    "#throughput vs time \n",
    "#bytes/transfer time\n",
    "#plot bytes per second recieved"
   ]
  },
  {
   "cell_type": "code",
   "execution_count": 102,
   "metadata": {},
   "outputs": [
    {
     "data": {
      "text/plain": [
       "Text(0.5, 1.0, 'Azure Transfer Time')"
      ]
     },
     "execution_count": 102,
     "metadata": {},
     "output_type": "execute_result"
    },
    {
     "data": {
      "image/png": "[encoded data removed]",
      "text/plain": [
       "<Figure size 432x288 with 1 Axes>"
      ]
     },
     "metadata": {
      "needs_background": "light"
     },
     "output_type": "display_data"
    }
   ],
   "source": [
    "plt.bar(range(0,240),az_transfer_time,5)\n",
    "plt.xlabel('Hour')\n",
    "plt.ylabel('Transfer Time')\n",
    "plt.title('Azure Transfer Time')"
   ]
  },
  {
   "cell_type": "code",
   "execution_count": 103,
   "metadata": {},
   "outputs": [
    {
     "data": {
      "text/plain": [
       "Text(0.5, 1.0, 'AWS Transfer Time')"
      ]
     },
     "execution_count": 103,
     "metadata": {},
     "output_type": "execute_result"
    },
    {
     "data": {
      "image/png": "[encoded data removed]",
      "text/plain": [
       "<Figure size 432x288 with 1 Axes>"
      ]
     },
     "metadata": {
      "needs_background": "light"
     },
     "output_type": "display_data"
    }
   ],
   "source": [
    "plt.bar(range(0,240),aws_transfer_time,5)\n",
    "plt.xlabel('Hour')\n",
    "plt.ylabel('Transfer Time')\n",
    "plt.title('AWS Transfer Time')"
   ]
  },
  {
   "cell_type": "code",
   "execution_count": 104,
   "metadata": {},
   "outputs": [
    {
     "data": {
      "text/plain": [
       "Text(0.5, 1.0, 'Digital Ocean Transfer Time')"
      ]
     },
     "execution_count": 104,
     "metadata": {},
     "output_type": "execute_result"
    },
    {
     "data": {
      "image/png": "[encoded data removed]",
      "text/plain": [
       "<Figure size 432x288 with 1 Axes>"
      ]
     },
     "metadata": {
      "needs_background": "light"
     },
     "output_type": "display_data"
    }
   ],
   "source": [
    "plt.bar(range(0,240),do_transfer_time,5)\n",
    "plt.xlabel('Hour')\n",
    "plt.ylabel('Transfer Time')\n",
    "plt.title('Digital Ocean Transfer Time')"
   ]
  },
  {
   "cell_type": "code",
   "execution_count": 105,
   "metadata": {},
   "outputs": [
    {
     "name": "stdout",
     "output_type": "stream",
     "text": [
      "DescribeResult(nobs=240, minmax=(1.0, 8.8), mean=1.1004166666666666, variance=0.4778659344490936, skewness=10.538722321976419, kurtosis=111.11327232618335)\n"
     ]
    },
    {
     "data": {
      "image/png": "[encoded data removed]",
      "text/plain": [
       "<Figure size 432x288 with 1 Axes>"
      ]
     },
     "metadata": {
      "needs_background": "light"
     },
     "output_type": "display_data"
    }
   ],
   "source": [
    "from scipy import stats\n",
    "fig1, ax1 = plt.subplots()\n",
    "ax1.set_title('GCP Box Plot')\n",
    "ax1.boxplot(gcp_transfer_time)\n",
    "print(stats.describe(gcp_transfer_time))"
   ]
  },
  {
   "cell_type": "code",
   "execution_count": 106,
   "metadata": {},
   "outputs": [
    {
     "name": "stdout",
     "output_type": "stream",
     "text": [
      "DescribeResult(nobs=240, minmax=(5.0, 6.3), mean=5.247083333333334, variance=0.011706938633193864, skewness=3.9878278162666754, kurtosis=36.90345033290095)\n"
     ]
    },
    {
     "data": {
      "image/png": "[encoded data removed]",
      "text/plain": [
       "<Figure size 432x288 with 1 Axes>"
      ]
     },
     "metadata": {
      "needs_background": "light"
     },
     "output_type": "display_data"
    }
   ],
   "source": [
    "\n",
    "fig1, ax1 = plt.subplots()\n",
    "ax1.set_title('Azure Box Plot')\n",
    "ax1.boxplot(az_transfer_time)\n",
    "print(stats.describe(az_transfer_time))"
   ]
  },
  {
   "cell_type": "code",
   "execution_count": 107,
   "metadata": {},
   "outputs": [
    {
     "name": "stdout",
     "output_type": "stream",
     "text": [
      "DescribeResult(nobs=240, minmax=(1.3, 5.5), mean=1.9454166666666666, variance=0.7352927126917711, skewness=1.8648230463746007, kurtosis=2.582462518947244)\n"
     ]
    },
    {
     "data": {
      "image/png": "[encoded data removed]",
      "text/plain": [
       "<Figure size 432x288 with 1 Axes>"
      ]
     },
     "metadata": {
      "needs_background": "light"
     },
     "output_type": "display_data"
    }
   ],
   "source": [
    "\n",
    "fig1, ax1 = plt.subplots()\n",
    "ax1.set_title('AWS Box Plot')\n",
    "ax1.boxplot(aws_transfer_time)\n",
    "print(stats.describe(aws_transfer_time))"
   ]
  },
  {
   "cell_type": "code",
   "execution_count": 108,
   "metadata": {},
   "outputs": [
    {
     "name": "stdout",
     "output_type": "stream",
     "text": [
      "DescribeResult(nobs=240, minmax=(1.1, 3.2), mean=1.4579166666666665, variance=0.09416300557880056, skewness=1.773227333273958, kurtosis=4.304947269713784)\n"
     ]
    },
    {
     "data": {
      "image/png": "[encoded data removed]",
      "text/plain": [
       "<Figure size 432x288 with 1 Axes>"
      ]
     },
     "metadata": {
      "needs_background": "light"
     },
     "output_type": "display_data"
    }
   ],
   "source": [
    "fig1, ax1 = plt.subplots()\n",
    "ax1.set_title('Digital Ocean Box Plot')\n",
    "ax1.boxplot(do_transfer_time)\n",
    "print(stats.describe(do_transfer_time))"
   ]
  },
  {
   "cell_type": "code",
   "execution_count": null,
   "metadata": {},
   "outputs": [],
   "source": []
  }
 ],
 "metadata": {
  "kernelspec": {
   "display_name": "Python 3",
   "language": "python",
   "name": "python3"
  },
  "language_info": {
   "codemirror_mode": {
    "name": "ipython",
    "version": 3
   },
   "file_extension": ".py",
   "mimetype": "text/x-python",
   "name": "python",
   "nbconvert_exporter": "python",
   "pygments_lexer": "ipython3",
   "version": "3.8.5"
  }
 },
 "nbformat": 4,
 "nbformat_minor": 4
}
