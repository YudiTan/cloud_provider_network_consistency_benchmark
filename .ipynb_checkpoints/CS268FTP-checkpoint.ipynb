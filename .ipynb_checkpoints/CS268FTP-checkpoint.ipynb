{
 "cells": [
  {
   "cell_type": "code",
   "execution_count": 90,
   "metadata": {},
   "outputs": [],
   "source": [
    "import pandas as pd\n",
    "import numpy as np\n",
    "import matplotlib.pyplot as plt\n"
   ]
  },
  {
   "cell_type": "code",
   "execution_count": 92,
   "metadata": {},
   "outputs": [
    {
     "name": "stdout",
     "output_type": "stream",
     "text": [
      "243\n"
     ]
    }
   ],
   "source": [
    "import glob\n",
    "import errno\n",
    "path = '/Users/nidhikakulawaram/Downloads/single-datacenter-ftp-test/gcp/*.txt' #note C:\n",
    "files = glob.glob(path)\n",
    "print(len(files))\n",
    "\n",
    "transferred = []\n",
    "bps = []\n",
    "\n",
    "for name in files:\n",
    "    try:\n",
    "        with open(name) as f:\n",
    "            for line in f:\n",
    "                if 'Transferred:' in line: \n",
    "                    transferred.append(line)\n",
    "                if 'Bytes per second:' in line:\n",
    "                    bps.append(line)\n",
    "    except IOError as exc: #Not sure what error this is\n",
    "        if exc.errno != errno.EISDIR:\n",
    "            raise"
   ]
  },
  {
   "cell_type": "code",
   "execution_count": 93,
   "metadata": {},
   "outputs": [],
   "source": [
    "gcp_transfer_time = []\n",
    "for t in transferred:\n",
    "    lst = t.split()\n",
    "    gcp_transfer_time.append(float(lst[7]))\n",
    "gcp_transfer_time = gcp_transfer_time[:240]"
   ]
  },
  {
   "cell_type": "code",
   "execution_count": 94,
   "metadata": {},
   "outputs": [
    {
     "data": {
      "text/plain": [
       "240"
      ]
     },
     "execution_count": 94,
     "metadata": {},
     "output_type": "execute_result"
    }
   ],
   "source": [
    "len(gcp_transfer_time)"
   ]
  },
  {
   "cell_type": "code",
   "execution_count": 95,
   "metadata": {},
   "outputs": [
    {
     "name": "stdout",
     "output_type": "stream",
     "text": [
      "241\n"
     ]
    }
   ],
   "source": [
    "path = '/Users/nidhikakulawaram/Downloads/single-datacenter-ftp-test/azure/*.txt' #note C:\n",
    "files = glob.glob(path)\n",
    "print(len(files))\n",
    "\n",
    "transferred = []\n",
    "bps = []\n",
    "\n",
    "for name in files:\n",
    "    try:\n",
    "        with open(name) as f:\n",
    "            for line in f:\n",
    "                if 'Transferred:' in line: \n",
    "                    transferred.append(line)\n",
    "                if 'Bytes per second:' in line:\n",
    "                    bps.append(line)\n",
    "    except IOError as exc: #Not sure what error this is\n",
    "        if exc.errno != errno.EISDIR:\n",
    "            raise"
   ]
  },
  {
   "cell_type": "code",
   "execution_count": 96,
   "metadata": {},
   "outputs": [],
   "source": [
    "az_transfer_time = []\n",
    "for t in transferred:\n",
    "    lst = t.split()\n",
    "    az_transfer_time.append(float(lst[7]))\n",
    "az_transfer_time = az_transfer_time[:240]"
   ]
  },
  {
   "cell_type": "code",
   "execution_count": 97,
   "metadata": {},
   "outputs": [
    {
     "name": "stdout",
     "output_type": "stream",
     "text": [
      "240\n"
     ]
    }
   ],
   "source": [
    "path = '/Users/nidhikakulawaram/Downloads/single-datacenter-ftp-test/digital-ocean/*.txt' #note C:\n",
    "files = glob.glob(path)\n",
    "print(len(files))\n",
    "\n",
    "transferred = []\n",
    "bps = []\n",
    "\n",
    "for name in files:\n",
    "    try:\n",
    "        with open(name) as f:\n",
    "            for line in f:\n",
    "                if 'Transferred:' in line: \n",
    "                    transferred.append(line)\n",
    "                if 'Bytes per second:' in line:\n",
    "                    bps.append(line)\n",
    "    except IOError as exc: #Not sure what error this is\n",
    "        if exc.errno != errno.EISDIR:\n",
    "            raise"
   ]
  },
  {
   "cell_type": "code",
   "execution_count": 98,
   "metadata": {},
   "outputs": [
    {
     "data": {
      "text/plain": [
       "[1.1, 1.3, 1.3, 1.3, 1.3]"
      ]
     },
     "execution_count": 98,
     "metadata": {},
     "output_type": "execute_result"
    }
   ],
   "source": [
    "do_transfer_time = []\n",
    "for t in transferred:\n",
    "    lst = t.split()\n",
    "    do_transfer_time.append(float(lst[7]))\n",
    "do_transfer_time = do_transfer_time[:240]\n",
    "do_transfer_time[0:5]"
   ]
  },
  {
   "cell_type": "code",
   "execution_count": 99,
   "metadata": {},
   "outputs": [
    {
     "name": "stdout",
     "output_type": "stream",
     "text": [
      "242\n"
     ]
    }
   ],
   "source": [
    "path = '/Users/nidhikakulawaram/Downloads/single-datacenter-ftp-test/AWS_scplogs/*.txt' #note C:\n",
    "files = glob.glob(path)\n",
    "print(len(files))\n",
    "\n",
    "transferred = []\n",
    "bps = []\n",
    "\n",
    "for name in files:\n",
    "    try:\n",
    "        with open(name) as f:\n",
    "            for line in f:\n",
    "                if 'Transferred:' in line: \n",
    "                    transferred.append(line)\n",
    "                if 'Bytes per second:' in line:\n",
    "                    bps.append(line)\n",
    "    except IOError as exc: #Not sure what error this is\n",
    "        if exc.errno != errno.EISDIR:\n",
    "            raise"
   ]
  },
  {
   "cell_type": "code",
   "execution_count": 100,
   "metadata": {},
   "outputs": [
    {
     "data": {
      "text/plain": [
       "[1.5, 1.4, 1.5, 1.5, 1.5]"
      ]
     },
     "execution_count": 100,
     "metadata": {},
     "output_type": "execute_result"
    }
   ],
   "source": [
    "aws_transfer_time = []\n",
    "for t in transferred:\n",
    "    lst = t.split()\n",
    "    aws_transfer_time.append(float(lst[7]))\n",
    "aws_transfer_time = aws_transfer_time[:240]\n",
    "aws_transfer_time[0:5]"
   ]
  },
  {
   "cell_type": "code",
   "execution_count": 109,
   "metadata": {},
   "outputs": [
    {
     "ename": "AttributeError",
     "evalue": "'list' object has no attribute 'mean'",
     "output_type": "error",
     "traceback": [
      "\u001b[0;31m---------------------------------------------------------------------------\u001b[0m",
      "\u001b[0;31mAttributeError\u001b[0m                            Traceback (most recent call last)",
      "\u001b[0;32m<ipython-input-109-8a96ffa48bc6>\u001b[0m in \u001b[0;36m<module>\u001b[0;34m\u001b[0m\n\u001b[1;32m      3\u001b[0m \u001b[0mplt\u001b[0m\u001b[0;34m.\u001b[0m\u001b[0mylabel\u001b[0m\u001b[0;34m(\u001b[0m\u001b[0;34m'Transfer Time'\u001b[0m\u001b[0;34m)\u001b[0m\u001b[0;34m\u001b[0m\u001b[0;34m\u001b[0m\u001b[0m\n\u001b[1;32m      4\u001b[0m \u001b[0mplt\u001b[0m\u001b[0;34m.\u001b[0m\u001b[0mtitle\u001b[0m\u001b[0;34m(\u001b[0m\u001b[0;34m'GCP Transfer Time'\u001b[0m\u001b[0;34m)\u001b[0m\u001b[0;34m\u001b[0m\u001b[0;34m\u001b[0m\u001b[0m\n\u001b[0;32m----> 5\u001b[0;31m \u001b[0mgcp_transfer_time\u001b[0m\u001b[0;34m.\u001b[0m\u001b[0mmean\u001b[0m\u001b[0;34m(\u001b[0m\u001b[0;34m)\u001b[0m\u001b[0;34m\u001b[0m\u001b[0;34m\u001b[0m\u001b[0m\n\u001b[0m",
      "\u001b[0;31mAttributeError\u001b[0m: 'list' object has no attribute 'mean'"
     ]
    },
    {
     "data": {
      "image/png": "[encoded data removed]",
      "text/plain": [
       "<Figure size 432x288 with 1 Axes>"
      ]
     },
     "metadata": {
      "needs_background": "light"
     },
     "output_type": "display_data"
    }
   ],
   "source": [
    "\n",
    "plt.bar(range(0,240),gcp_transfer_time,5)\n",
    "plt.xlabel('Hour')\n",
    "plt.ylabel('Transfer Time')\n",
    "plt.title('GCP Transfer Time')\n",
    "\n",
    "#throughput vs time \n",
    "#bytes/transfer time\n",
    "#plot bytes per second recieved"
   ]
  },
  {
   "cell_type": "code",
   "execution_count": 102,
   "metadata": {},
   "outputs": [
    {
     "data": {
      "text/plain": [
       "Text(0.5, 1.0, 'Azure Transfer Time')"
      ]
     },
     "execution_count": 102,
     "metadata": {},
     "output_type": "execute_result"
    },
    {
     "data": {
      "image/png": "[encoded data removed]",
      "text/plain": [
       "<Figure size 432x288 with 1 Axes>"
      ]
     },
     "metadata": {
      "needs_background": "light"
     },
     "output_type": "display_data"
    }
   ],
   "source": [
    "plt.bar(range(0,240),az_transfer_time,5)\n",
    "plt.xlabel('Hour')\n",
    "plt.ylabel('Transfer Time')\n",
    "plt.title('Azure Transfer Time')"
   ]
  },
  {
   "cell_type": "code",
   "execution_count": 103,
   "metadata": {},
   "outputs": [
    {
     "data": {
      "text/plain": [
       "Text(0.5, 1.0, 'AWS Transfer Time')"
      ]
     },
     "execution_count": 103,
     "metadata": {},
     "output_type": "execute_result"
    },
    {
     "data": {
      "image/png": "[encoded data removed]",
      "text/plain": [
       "<Figure size 432x288 with 1 Axes>"
      ]
     },
     "metadata": {
      "needs_background": "light"
     },
     "output_type": "display_data"
    }
   ],
   "source": [
    "plt.bar(range(0,240),aws_transfer_time,5)\n",
    "plt.xlabel('Hour')\n",
    "plt.ylabel('Transfer Time')\n",
    "plt.title('AWS Transfer Time')"
   ]
  },
  {
   "cell_type": "code",
   "execution_count": 104,
   "metadata": {},
   "outputs": [
    {
     "data": {
      "text/plain": [
       "Text(0.5, 1.0, 'Digital Ocean Transfer Time')"
      ]
     },
     "execution_count": 104,
     "metadata": {},
     "output_type": "execute_result"
    },
    {
     "data": {
      "image/png": "[encoded data removed]",
      "text/plain": [
       "<Figure size 432x288 with 1 Axes>"
      ]
     },
     "metadata": {
      "needs_background": "light"
     },
     "output_type": "display_data"
    }
   ],
   "source": [
    "plt.bar(range(0,240),do_transfer_time,5)\n",
    "plt.xlabel('Hour')\n",
    "plt.ylabel('Transfer Time')\n",
    "plt.title('Digital Ocean Transfer Time')"
   ]
  },
  {
   "cell_type": "code",
   "execution_count": 105,
   "metadata": {},
   "outputs": [
    {
     "name": "stdout",
     "output_type": "stream",
     "text": [
      "DescribeResult(nobs=240, minmax=(1.0, 8.8), mean=1.1004166666666666, variance=0.4778659344490936, skewness=10.538722321976419, kurtosis=111.11327232618335)\n"
     ]
    },
    {
     "data": {
      "image/png": "[encoded data removed]",
      "text/plain": [
       "<Figure size 432x288 with 1 Axes>"
      ]
     },
     "metadata": {
      "needs_background": "light"
     },
     "output_type": "display_data"
    }
   ],
   "source": [
    "from scipy import stats\n",
    "fig1, ax1 = plt.subplots()\n",
    "ax1.set_title('GCP Box Plot')\n",
    "ax1.boxplot(gcp_transfer_time)\n",
    "print(stats.describe(gcp_transfer_time))"
   ]
  },
  {
   "cell_type": "code",
   "execution_count": 106,
   "metadata": {},
   "outputs": [
    {
     "name": "stdout",
     "output_type": "stream",
     "text": [
      "DescribeResult(nobs=240, minmax=(5.0, 6.3), mean=5.247083333333334, variance=0.011706938633193864, skewness=3.9878278162666754, kurtosis=36.90345033290095)\n"
     ]
    },
    {
     "data": {
      "image/png": "[encoded data removed]",
      "text/plain": [
       "<Figure size 432x288 with 1 Axes>"
      ]
     },
     "metadata": {
      "needs_background": "light"
     },
     "output_type": "display_data"
    }
   ],
   "source": [
    "\n",
    "fig1, ax1 = plt.subplots()\n",
    "ax1.set_title('Azure Box Plot')\n",
    "ax1.boxplot(az_transfer_time)\n",
    "print(stats.describe(az_transfer_time))"
   ]
  },
  {
   "cell_type": "code",
   "execution_count": 107,
   "metadata": {},
   "outputs": [
    {
     "name": "stdout",
     "output_type": "stream",
     "text": [
      "DescribeResult(nobs=240, minmax=(1.3, 5.5), mean=1.9454166666666666, variance=0.7352927126917711, skewness=1.8648230463746007, kurtosis=2.582462518947244)\n"
     ]
    },
    {
     "data": {
      "image/png": "[encoded data removed]",
      "text/plain": [
       "<Figure size 432x288 with 1 Axes>"
      ]
     },
     "metadata": {
      "needs_background": "light"
     },
     "output_type": "display_data"
    }
   ],
   "source": [
    "\n",
    "fig1, ax1 = plt.subplots()\n",
    "ax1.set_title('AWS Box Plot')\n",
    "ax1.boxplot(aws_transfer_time)\n",
    "print(stats.describe(aws_transfer_time))"
   ]
  },
  {
   "cell_type": "code",
   "execution_count": 108,
   "metadata": {},
   "outputs": [
    {
     "name": "stdout",
     "output_type": "stream",
     "text": [
      "DescribeResult(nobs=240, minmax=(1.1, 3.2), mean=1.4579166666666665, variance=0.09416300557880056, skewness=1.773227333273958, kurtosis=4.304947269713784)\n"
     ]
    },
    {
     "data": {
      "image/png": "[encoded data removed]",
      "text/plain": [
       "<Figure size 432x288 with 1 Axes>"
      ]
     },
     "metadata": {
      "needs_background": "light"
     },
     "output_type": "display_data"
    }
   ],
   "source": [
    "fig1, ax1 = plt.subplots()\n",
    "ax1.set_title('Digital Ocean Box Plot')\n",
    "ax1.boxplot(do_transfer_time)\n",
    "print(stats.describe(do_transfer_time))"
   ]
  },
  {
   "cell_type": "code",
   "execution_count": null,
   "metadata": {},
   "outputs": [],
   "source": []
  }
 ],
 "metadata": {
  "kernelspec": {
   "display_name": "Python 3",
   "language": "python",
   "name": "python3"
  },
  "language_info": {
   "codemirror_mode": {
    "name": "ipython",
    "version": 3
   },
   "file_extension": ".py",
   "mimetype": "text/x-python",
   "name": "python",
   "nbconvert_exporter": "python",
   "pygments_lexer": "ipython3",
   "version": "3.6.7"
  }
 },
 "nbformat": 4,
 "nbformat_minor": 4
}
